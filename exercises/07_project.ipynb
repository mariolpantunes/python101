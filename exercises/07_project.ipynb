{
 "cells": [
  {
   "cell_type": "markdown",
   "metadata": {},
   "source": [
    "# Project\n",
    "\n",
    "In here you will find some ideas for a project in python.\n",
    "\n",
    "A project, in this context, is a program that have a higher level of utility than the other exercises.\n",
    "\n",
    "1. Directory Tree Generator\n",
    "\n",
    "Write a function that outputs the contents of a directory recursively with a tree-like printing format:\n",
    "```\n",
    "dirA\\\n",
    "-->fileA.txt\n",
    "-->dirB\\\n",
    "---->fileB.txt\n",
    "-->fileC.txt\n",
    "```"
   ]
  },
  {
   "cell_type": "code",
   "execution_count": null,
   "metadata": {},
   "outputs": [],
   "source": []
  },
  {
   "cell_type": "markdown",
   "metadata": {},
   "source": [
    "2. Guessing Number\n",
    "\n",
    "Write a function that implements the guessing number game.\n",
    "\n",
    "The game should follow the next set of rules:\n",
    "1. Generate a random number between a pre-defined range\n",
    "2. The player input a number\n",
    "3. the program analyses the number and outputs: smaller, bigger or match\n",
    "4. For each try that the player uses increment a counter\n",
    "5. When the player discovers the number, print the number of tries necessary"
   ]
  },
  {
   "cell_type": "code",
   "execution_count": null,
   "metadata": {},
   "outputs": [],
   "source": []
  },
  {
   "cell_type": "markdown",
   "metadata": {},
   "source": [
    "3. Guessing Number Bot\n",
    "\n",
    "Implement a bot that is able to play the previous game.\n",
    "\n",
    "**Extra:** Optimize the bot to require less than $log(n)$ tries to find the number."
   ]
  },
  {
   "cell_type": "code",
   "execution_count": null,
   "metadata": {},
   "outputs": [],
   "source": []
  }
 ],
 "metadata": {
  "kernelspec": {
   "display_name": "Python 3",
   "language": "python",
   "name": "python3"
  },
  "language_info": {
   "codemirror_mode": {
    "name": "ipython",
    "version": 3
   },
   "file_extension": ".py",
   "mimetype": "text/x-python",
   "name": "python",
   "nbconvert_exporter": "python",
   "pygments_lexer": "ipython3",
   "version": "3.7.5"
  }
 },
 "nbformat": 4,
 "nbformat_minor": 2
}
