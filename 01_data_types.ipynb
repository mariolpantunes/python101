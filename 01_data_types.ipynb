{
 "cells": [
  {
   "cell_type": "markdown",
   "metadata": {
    "id": "5rVO2LZynSJJ"
   },
   "source": [
    "# Python objects, basic types, and variables\n",
    "\n",
    "Everything in Python is an **object** and every object in Python has a **type**. Some of the basic types include:\n",
    "\n",
    "- **`int`** (integer; a whole number with no decimal place)\n",
    "  - `10`\n",
    "  - `-3`\n",
    "- **`float`** (float; a number that has a decimal place)\n",
    "  - `7.41`\n",
    "  - `-0.006`\n",
    "- **`str`** (string; a sequence of characters enclosed in single quotes, double quotes, or triple quotes)\n",
    "  - `'this is a string using single quotes'`\n",
    "  - `\"this is a string using double quotes\"`\n",
    "  - `'''this is a triple quoted string using single quotes'''`\n",
    "  - `\"\"\"this is a triple quoted string using double quotes\"\"\"`\n",
    "- **`bool`** (boolean; a binary value that is either true or false)\n",
    "  - `True`\n",
    "  - `False`\n",
    "- **`NoneType`** (a special type representing the absence of a value)\n",
    "  - `None`\n",
    "\n",
    "In Python, a **variable** is a name you specify in your code that maps to a particular **object**, object **instance**, or value.\n",
    "\n",
    "By defining variables, we can refer to things by names that make sense to us. Names for variables can only contain letters, underscores (`_`), or numbers (no spaces, dashes, or other characters). Variable names must start with a letter or underscore."
   ]
  },
  {
   "cell_type": "code",
   "execution_count": null,
   "metadata": {
    "id": "iroHEB0gm66j"
   },
   "outputs": [],
   "source": []
  },
  {
   "cell_type": "markdown",
   "metadata": {
    "id": "8Ooji8mjndgK"
   },
   "source": [
    "# Basic operators\n",
    "\n",
    "In Python, there are different types of **operators** (special symbols) that operate on different values. Some of the basic operators include:\n",
    "\n",
    "- arithmetic operators\n",
    "  - **`+`** (addition)\n",
    "  - **`-`** (subtraction)\n",
    "  - **`*`** (multiplication)\n",
    "  - **`/`** (division)\n",
    "  - __`**`__ (exponent)\n",
    "- assignment operators\n",
    "  - **`=`** (assign a value)\n",
    "  - **`+=`** (add and re-assign; increment)\n",
    "  - **`-=`** (subtract and re-assign; decrement)\n",
    "  - **`*=`** (multiply and re-assign)\n",
    "- comparison operators (return either `True` or `False`)\n",
    "  - **`==`** (equal to)\n",
    "  - **`!=`** (not equal to)\n",
    "  - **`<`** (less than)\n",
    "  - **`<=`** (less than or equal to)\n",
    "  - **`>`** (greater than)\n",
    "  - **`>=`** (greater than or equal to)\n",
    "\n",
    "When multiple operators are used in a single expression, **operator precedence** determines which parts of the expression are evaluated in which order. Operators with higher precedence are evaluated first (like PEMDAS in math). Operators with the same precedence are evaluated from left to right.\n",
    "\n",
    "- `()` parentheses, for grouping\n",
    "- `**` exponent\n",
    "- `*`, `/` multiplication and division\n",
    "- `+`, `-` addition and subtraction\n",
    "- `==`, `!=`, `<`, `<=`, `>`, `>=` comparisons\n",
    "\n",
    "> See [here](https://docs.python.org/3/reference/expressions.html#operator-precedence) for information on operator precedence."
   ]
  },
  {
   "cell_type": "code",
   "execution_count": 1,
   "metadata": {
    "id": "ECk6lGdponU9"
   },
   "outputs": [],
   "source": [
    "# Assigning some numbers to different variables\n",
    "num1 = 10\n",
    "num2 = -3\n",
    "num3 = 7.41\n",
    "num4 = -.6\n",
    "num5 = 7\n",
    "num6 = 3\n",
    "num7 = 11.11"
   ]
  },
  {
   "cell_type": "code",
   "execution_count": 2,
   "metadata": {
    "colab": {
     "base_uri": "https://localhost:8080/"
    },
    "executionInfo": {
     "elapsed": 183,
     "status": "ok",
     "timestamp": 1666024897085,
     "user": {
      "displayName": "Mário Antunes",
      "userId": "09349029796619273737"
     },
     "user_tz": -60
    },
    "id": "5twBCSqLotdb",
    "outputId": "69c37d86-8dc8-4ede-f0dc-0a8a956e5b22"
   },
   "outputs": [
    {
     "data": {
      "text/plain": [
       "7"
      ]
     },
     "execution_count": 2,
     "metadata": {},
     "output_type": "execute_result"
    }
   ],
   "source": [
    "# Addition\n",
    "num1 + num2"
   ]
  },
  {
   "cell_type": "code",
   "execution_count": 3,
   "metadata": {
    "colab": {
     "base_uri": "https://localhost:8080/"
    },
    "executionInfo": {
     "elapsed": 179,
     "status": "ok",
     "timestamp": 1666024897086,
     "user": {
      "displayName": "Mário Antunes",
      "userId": "09349029796619273737"
     },
     "user_tz": -60
    },
    "id": "MHfs1on_owRX",
    "outputId": "877461d8-f0dd-4ad4-aed8-4752473e5554"
   },
   "outputs": [
    {
     "data": {
      "text/plain": [
       "-4.446"
      ]
     },
     "execution_count": 3,
     "metadata": {},
     "output_type": "execute_result"
    }
   ],
   "source": [
    "# Multiplication\n",
    "num3 * num4"
   ]
  },
  {
   "cell_type": "code",
   "execution_count": 4,
   "metadata": {
    "colab": {
     "base_uri": "https://localhost:8080/"
    },
    "executionInfo": {
     "elapsed": 174,
     "status": "ok",
     "timestamp": 1666024897087,
     "user": {
      "displayName": "Mário Antunes",
      "userId": "09349029796619273737"
     },
     "user_tz": -60
    },
    "id": "Co_9twO-oxj7",
    "outputId": "359f9e90-3bdc-421d-c04b-8fc12dc034b5"
   },
   "outputs": [
    {
     "data": {
      "text/plain": [
       "-0.08571428571428572"
      ]
     },
     "execution_count": 4,
     "metadata": {},
     "output_type": "execute_result"
    }
   ],
   "source": [
    "# Division\n",
    "num4 / num5"
   ]
  },
  {
   "cell_type": "code",
   "execution_count": 5,
   "metadata": {
    "colab": {
     "base_uri": "https://localhost:8080/"
    },
    "executionInfo": {
     "elapsed": 170,
     "status": "ok",
     "timestamp": 1666024897087,
     "user": {
      "displayName": "Mário Antunes",
      "userId": "09349029796619273737"
     },
     "user_tz": -60
    },
    "id": "kdKYq06voy40",
    "outputId": "cde1a2df-264e-469b-9d4a-d8ded692af7c"
   },
   "outputs": [
    {
     "data": {
      "text/plain": [
       "343"
      ]
     },
     "execution_count": 5,
     "metadata": {},
     "output_type": "execute_result"
    }
   ],
   "source": [
    "# Exponent\n",
    "num5 ** num6"
   ]
  },
  {
   "cell_type": "code",
   "execution_count": 6,
   "metadata": {
    "colab": {
     "base_uri": "https://localhost:8080/"
    },
    "executionInfo": {
     "elapsed": 166,
     "status": "ok",
     "timestamp": 1666024897088,
     "user": {
      "displayName": "Mário Antunes",
      "userId": "09349029796619273737"
     },
     "user_tz": -60
    },
    "id": "QE6YIcilo0xL",
    "outputId": "b41b70e7-cdaf-4704-edf6-3004f28f7fbf"
   },
   "outputs": [
    {
     "name": "stdout",
     "output_type": "stream",
     "text": [
      "15.11\n"
     ]
    }
   ],
   "source": [
    "# Increment existing variable\n",
    "num7 += 4\n",
    "print(num7)"
   ]
  },
  {
   "cell_type": "code",
   "execution_count": 7,
   "metadata": {
    "colab": {
     "base_uri": "https://localhost:8080/"
    },
    "executionInfo": {
     "elapsed": 163,
     "status": "ok",
     "timestamp": 1666024897088,
     "user": {
      "displayName": "Mário Antunes",
      "userId": "09349029796619273737"
     },
     "user_tz": -60
    },
    "id": "hK_GCPv1o2Ms",
    "outputId": "aaef44c4-a471-4d45-8135-73925f27c5f2"
   },
   "outputs": [
    {
     "name": "stdout",
     "output_type": "stream",
     "text": [
      "1\n"
     ]
    }
   ],
   "source": [
    "# Decrement existing variable\n",
    "num6 -= 2\n",
    "print(num6)"
   ]
  },
  {
   "cell_type": "code",
   "execution_count": 8,
   "metadata": {
    "colab": {
     "base_uri": "https://localhost:8080/"
    },
    "executionInfo": {
     "elapsed": 158,
     "status": "ok",
     "timestamp": 1666024897088,
     "user": {
      "displayName": "Mário Antunes",
      "userId": "09349029796619273737"
     },
     "user_tz": -60
    },
    "id": "gXy-9Ia1o3aw",
    "outputId": "2bc539c9-a749-4ef1-b887-04550a6a46d8"
   },
   "outputs": [
    {
     "name": "stdout",
     "output_type": "stream",
     "text": [
      "37.05\n"
     ]
    }
   ],
   "source": [
    "# Multiply & re-assign\n",
    "num3 *= 5\n",
    "print(num3)"
   ]
  },
  {
   "cell_type": "code",
   "execution_count": 9,
   "metadata": {
    "colab": {
     "base_uri": "https://localhost:8080/"
    },
    "executionInfo": {
     "elapsed": 154,
     "status": "ok",
     "timestamp": 1666024897088,
     "user": {
      "displayName": "Mário Antunes",
      "userId": "09349029796619273737"
     },
     "user_tz": -60
    },
    "id": "aOJCBBsoo48F",
    "outputId": "40dc6959-6042-4aa5-9d38-59d62bbd3a12"
   },
   "outputs": [
    {
     "name": "stdout",
     "output_type": "stream",
     "text": [
      "-101.14999999999999\n"
     ]
    }
   ],
   "source": [
    "# Assign the value of an expression to a variable\n",
    "num8 = num1 + num2 * num3\n",
    "print(num8)"
   ]
  },
  {
   "cell_type": "code",
   "execution_count": 10,
   "metadata": {
    "colab": {
     "base_uri": "https://localhost:8080/"
    },
    "executionInfo": {
     "elapsed": 149,
     "status": "ok",
     "timestamp": 1666024897090,
     "user": {
      "displayName": "Mário Antunes",
      "userId": "09349029796619273737"
     },
     "user_tz": -60
    },
    "id": "xowbgBq1o6Qr",
    "outputId": "3c859978-f845-4ffe-bd95-de112fd6c41c"
   },
   "outputs": [
    {
     "data": {
      "text/plain": [
       "True"
      ]
     },
     "execution_count": 10,
     "metadata": {},
     "output_type": "execute_result"
    }
   ],
   "source": [
    "# Are these two expressions equal to each other?\n",
    "num1 + num2 == num5"
   ]
  },
  {
   "cell_type": "code",
   "execution_count": 11,
   "metadata": {
    "colab": {
     "base_uri": "https://localhost:8080/"
    },
    "executionInfo": {
     "elapsed": 144,
     "status": "ok",
     "timestamp": 1666024897090,
     "user": {
      "displayName": "Mário Antunes",
      "userId": "09349029796619273737"
     },
     "user_tz": -60
    },
    "id": "Z2Oxx6kbo8RG",
    "outputId": "4b0f7c6f-abb4-4e0b-f60a-c651a1aabf23"
   },
   "outputs": [
    {
     "data": {
      "text/plain": [
       "True"
      ]
     },
     "execution_count": 11,
     "metadata": {},
     "output_type": "execute_result"
    }
   ],
   "source": [
    "# Are these two expressions not equal to each other?\n",
    "num3 != num4"
   ]
  },
  {
   "cell_type": "code",
   "execution_count": 12,
   "metadata": {
    "colab": {
     "base_uri": "https://localhost:8080/"
    },
    "executionInfo": {
     "elapsed": 138,
     "status": "ok",
     "timestamp": 1666024897090,
     "user": {
      "displayName": "Mário Antunes",
      "userId": "09349029796619273737"
     },
     "user_tz": -60
    },
    "id": "VfHmASD4o9gE",
    "outputId": "8886cf98-a420-4ea0-bb0b-0951cd1ce2be"
   },
   "outputs": [
    {
     "data": {
      "text/plain": [
       "False"
      ]
     },
     "execution_count": 12,
     "metadata": {},
     "output_type": "execute_result"
    }
   ],
   "source": [
    "# Is the first expression less than the second expression?\n",
    "num5 < num6"
   ]
  },
  {
   "cell_type": "code",
   "execution_count": 13,
   "metadata": {
    "colab": {
     "base_uri": "https://localhost:8080/"
    },
    "executionInfo": {
     "elapsed": 134,
     "status": "ok",
     "timestamp": 1666024897091,
     "user": {
      "displayName": "Mário Antunes",
      "userId": "09349029796619273737"
     },
     "user_tz": -60
    },
    "id": "KjLs_xApo-8w",
    "outputId": "227ef27a-8a12-4eef-fd94-57d2190ab1b1"
   },
   "outputs": [
    {
     "data": {
      "text/plain": [
       "True"
      ]
     },
     "execution_count": 13,
     "metadata": {},
     "output_type": "execute_result"
    }
   ],
   "source": [
    "# Is this expression True?\n",
    "5 > 3 > 1"
   ]
  },
  {
   "cell_type": "code",
   "execution_count": 14,
   "metadata": {
    "colab": {
     "base_uri": "https://localhost:8080/"
    },
    "executionInfo": {
     "elapsed": 129,
     "status": "ok",
     "timestamp": 1666024897091,
     "user": {
      "displayName": "Mário Antunes",
      "userId": "09349029796619273737"
     },
     "user_tz": -60
    },
    "id": "C9wIO9NKpAHA",
    "outputId": "e1fc3837-aebf-49dd-91d3-9bea5ff31242"
   },
   "outputs": [
    {
     "data": {
      "text/plain": [
       "True"
      ]
     },
     "execution_count": 14,
     "metadata": {},
     "output_type": "execute_result"
    }
   ],
   "source": [
    "# Is this expression True?\n",
    "5 > 3 < 4 == 3 + 1"
   ]
  },
  {
   "cell_type": "markdown",
   "metadata": {
    "id": "tGGSnu0Oon37"
   },
   "source": [
    "# Basic containers\n",
    "\n",
    "> Note: **mutable** objects can be modified after creation and **immutable** objects cannot.\n",
    "\n",
    "Containers are objects that can be used to group other objects together. The basic container types include:\n",
    "\n",
    "- **`str`** (string: immutable; indexed by integers; items are stored in the order they were added)\n",
    "- **`list`** (list: mutable; indexed by integers; items are stored in the order they were added)\n",
    "  - `[3, 5, 6, 3, 'dog', 'cat', False]`\n",
    "- **`tuple`** (tuple: immutable; indexed by integers; items are stored in the order they were added)\n",
    "  - `(3, 5, 6, 3, 'dog', 'cat', False)`\n",
    "- **`set`** (set: mutable; not indexed at all; items are NOT stored in the order they were added; can only contain immutable objects; does NOT contain duplicate objects)\n",
    "  - `{3, 5, 6, 3, 'dog', 'cat', False}`\n",
    "- **`dict`** (dictionary: mutable; key-value pairs are indexed by immutable keys; items are NOT stored in the order they were added)\n",
    "  - `{'name': 'Jane', 'age': 23, 'fav_foods': ['pizza', 'fruit', 'fish']}`\n",
    "\n",
    "When defining lists, tuples, or sets, use commas (,) to separate the individual items. When defining dicts, use a colon (:) to separate keys from values and commas (,) to separate the key-value pairs.\n",
    "\n",
    "Strings, lists, and tuples are all **sequence types** that can use the `+`, `*`, `+=`, and `*=` operators."
   ]
  },
  {
   "cell_type": "code",
   "execution_count": 15,
   "metadata": {
    "id": "y76nivM-pJyB"
   },
   "outputs": [],
   "source": [
    "# Assign some strings to different variables\n",
    "simple_string1 = 'an example'\n",
    "simple_string2 = \"oranges \""
   ]
  },
  {
   "cell_type": "code",
   "execution_count": 16,
   "metadata": {
    "colab": {
     "base_uri": "https://localhost:8080/",
     "height": 36
    },
    "executionInfo": {
     "elapsed": 126,
     "status": "ok",
     "timestamp": 1666024897092,
     "user": {
      "displayName": "Mário Antunes",
      "userId": "09349029796619273737"
     },
     "user_tz": -60
    },
    "id": "y4RScFasp8eQ",
    "outputId": "b77e0703-839a-4f66-da56-30d11c472f53"
   },
   "outputs": [
    {
     "data": {
      "text/plain": [
       "'an example of using the + operator'"
      ]
     },
     "execution_count": 16,
     "metadata": {},
     "output_type": "execute_result"
    }
   ],
   "source": [
    "# Addition\n",
    "simple_string1 + ' of using the + operator'"
   ]
  },
  {
   "cell_type": "code",
   "execution_count": 17,
   "metadata": {
    "colab": {
     "base_uri": "https://localhost:8080/",
     "height": 36
    },
    "executionInfo": {
     "elapsed": 124,
     "status": "ok",
     "timestamp": 1666024897093,
     "user": {
      "displayName": "Mário Antunes",
      "userId": "09349029796619273737"
     },
     "user_tz": -60
    },
    "id": "wH0X77r2p-53",
    "outputId": "f71b2e1f-06e0-444f-a423-7984169949c8"
   },
   "outputs": [
    {
     "data": {
      "text/plain": [
       "'an example'"
      ]
     },
     "execution_count": 17,
     "metadata": {},
     "output_type": "execute_result"
    }
   ],
   "source": [
    "# Notice that the string was not modified\n",
    "simple_string1"
   ]
  },
  {
   "cell_type": "code",
   "execution_count": 18,
   "metadata": {
    "colab": {
     "base_uri": "https://localhost:8080/",
     "height": 36
    },
    "executionInfo": {
     "elapsed": 121,
     "status": "ok",
     "timestamp": 1666024897093,
     "user": {
      "displayName": "Mário Antunes",
      "userId": "09349029796619273737"
     },
     "user_tz": -60
    },
    "id": "5VGxv-x9qBAP",
    "outputId": "a885c566-b3f6-49f1-aea0-6b39775ad12e"
   },
   "outputs": [
    {
     "data": {
      "text/plain": [
       "'oranges oranges oranges oranges '"
      ]
     },
     "execution_count": 18,
     "metadata": {},
     "output_type": "execute_result"
    }
   ],
   "source": [
    "# Multiplication\n",
    "simple_string2 * 4"
   ]
  },
  {
   "cell_type": "code",
   "execution_count": 19,
   "metadata": {
    "colab": {
     "base_uri": "https://localhost:8080/",
     "height": 36
    },
    "executionInfo": {
     "elapsed": 120,
     "status": "ok",
     "timestamp": 1666024897094,
     "user": {
      "displayName": "Mário Antunes",
      "userId": "09349029796619273737"
     },
     "user_tz": -60
    },
    "id": "yp4knM_YqDnW",
    "outputId": "9949a04d-aada-4e14-add4-fbd2e599f6e0"
   },
   "outputs": [
    {
     "data": {
      "text/plain": [
       "'oranges '"
      ]
     },
     "execution_count": 19,
     "metadata": {},
     "output_type": "execute_result"
    }
   ],
   "source": [
    "# This string wasn't modified either\n",
    "simple_string2"
   ]
  },
  {
   "cell_type": "code",
   "execution_count": 20,
   "metadata": {
    "colab": {
     "base_uri": "https://localhost:8080/"
    },
    "executionInfo": {
     "elapsed": 118,
     "status": "ok",
     "timestamp": 1666024897094,
     "user": {
      "displayName": "Mário Antunes",
      "userId": "09349029796619273737"
     },
     "user_tz": -60
    },
    "id": "fjewy-WoqeDs",
    "outputId": "bee080f9-a82e-45ed-cfc3-759d8099bae3"
   },
   "outputs": [
    {
     "data": {
      "text/plain": [
       "False"
      ]
     },
     "execution_count": 20,
     "metadata": {},
     "output_type": "execute_result"
    }
   ],
   "source": [
    "# Are these two expressions equal to each other?\n",
    "simple_string1 == simple_string2"
   ]
  },
  {
   "cell_type": "code",
   "execution_count": 21,
   "metadata": {
    "colab": {
     "base_uri": "https://localhost:8080/"
    },
    "executionInfo": {
     "elapsed": 110,
     "status": "ok",
     "timestamp": 1666024897094,
     "user": {
      "displayName": "Mário Antunes",
      "userId": "09349029796619273737"
     },
     "user_tz": -60
    },
    "id": "4QhESEyZqfeD",
    "outputId": "eb404c2f-d7ad-48eb-f616-c3e5685b7928"
   },
   "outputs": [
    {
     "data": {
      "text/plain": [
       "True"
      ]
     },
     "execution_count": 21,
     "metadata": {},
     "output_type": "execute_result"
    }
   ],
   "source": [
    "# Are these two expressions equal to each other?\n",
    "simple_string1 == 'an example'"
   ]
  },
  {
   "cell_type": "code",
   "execution_count": 22,
   "metadata": {
    "colab": {
     "base_uri": "https://localhost:8080/",
     "height": 36
    },
    "executionInfo": {
     "elapsed": 105,
     "status": "ok",
     "timestamp": 1666024897095,
     "user": {
      "displayName": "Mário Antunes",
      "userId": "09349029796619273737"
     },
     "user_tz": -60
    },
    "id": "Kdm48apoqgyI",
    "outputId": "e9775939-f73e-49f2-fb2d-972dcce9f59b"
   },
   "outputs": [
    {
     "data": {
      "text/plain": [
       "'an example that re-assigned the original string'"
      ]
     },
     "execution_count": 22,
     "metadata": {},
     "output_type": "execute_result"
    }
   ],
   "source": [
    "# Add and re-assign\n",
    "simple_string1 += ' that re-assigned the original string'\n",
    "simple_string1"
   ]
  },
  {
   "cell_type": "code",
   "execution_count": 23,
   "metadata": {
    "colab": {
     "base_uri": "https://localhost:8080/",
     "height": 36
    },
    "executionInfo": {
     "elapsed": 103,
     "status": "ok",
     "timestamp": 1666024897095,
     "user": {
      "displayName": "Mário Antunes",
      "userId": "09349029796619273737"
     },
     "user_tz": -60
    },
    "id": "9TAGpd6FqiQK",
    "outputId": "8cb8f5ba-afdd-45e7-8077-8f2c90ae5922"
   },
   "outputs": [
    {
     "data": {
      "text/plain": [
       "'oranges oranges oranges '"
      ]
     },
     "execution_count": 23,
     "metadata": {},
     "output_type": "execute_result"
    }
   ],
   "source": [
    "# Multiply and re-assign\n",
    "simple_string2 *= 3\n",
    "simple_string2"
   ]
  },
  {
   "cell_type": "code",
   "execution_count": 24,
   "metadata": {
    "id": "X2S5C96Sqjlj"
   },
   "outputs": [],
   "source": [
    "# Assign some containers to different variables\n",
    "list1 = [3, 5, 6, 3, 'dog', 'cat', False]\n",
    "tuple1 = (3, 5, 6, 3, 'dog', 'cat', False)\n",
    "set1 = {3, 5, 6, 3, 'dog', 'cat', False}\n",
    "dict1 = {'name': 'Jane', 'age': 23, 'fav_foods': ['pizza', 'fruit', 'fish']}"
   ]
  },
  {
   "cell_type": "code",
   "execution_count": 25,
   "metadata": {
    "colab": {
     "base_uri": "https://localhost:8080/"
    },
    "executionInfo": {
     "elapsed": 102,
     "status": "ok",
     "timestamp": 1666024897096,
     "user": {
      "displayName": "Mário Antunes",
      "userId": "09349029796619273737"
     },
     "user_tz": -60
    },
    "id": "daYsEVR4qlYt",
    "outputId": "89af72bc-eb1d-4c71-b24b-3264198ef910"
   },
   "outputs": [
    {
     "name": "stdout",
     "output_type": "stream",
     "text": [
      "[3, 5, 6, 3, 'dog', 'cat', False]\n"
     ]
    }
   ],
   "source": [
    "# Items in the list object are stored in the order they were added\n",
    "print(list1)"
   ]
  },
  {
   "cell_type": "code",
   "execution_count": 26,
   "metadata": {
    "colab": {
     "base_uri": "https://localhost:8080/"
    },
    "executionInfo": {
     "elapsed": 99,
     "status": "ok",
     "timestamp": 1666024897097,
     "user": {
      "displayName": "Mário Antunes",
      "userId": "09349029796619273737"
     },
     "user_tz": -60
    },
    "id": "SpWrK527qmML",
    "outputId": "90a9c8f3-0f3c-4f5e-cf35-1461697a7208"
   },
   "outputs": [
    {
     "name": "stdout",
     "output_type": "stream",
     "text": [
      "(3, 5, 6, 3, 'dog', 'cat', False)\n"
     ]
    }
   ],
   "source": [
    "# Items in the tuple object are stored in the order they were added\n",
    "print(tuple1)"
   ]
  },
  {
   "cell_type": "code",
   "execution_count": 27,
   "metadata": {
    "colab": {
     "base_uri": "https://localhost:8080/"
    },
    "executionInfo": {
     "elapsed": 95,
     "status": "ok",
     "timestamp": 1666024897098,
     "user": {
      "displayName": "Mário Antunes",
      "userId": "09349029796619273737"
     },
     "user_tz": -60
    },
    "id": "5SnPJ50aqoiG",
    "outputId": "9506cf4d-75ba-4de6-9e0d-7235b851a1b8"
   },
   "outputs": [
    {
     "name": "stdout",
     "output_type": "stream",
     "text": [
      "{False, 3, 'cat', 5, 'dog', 6}\n"
     ]
    }
   ],
   "source": [
    "# Items in the set object are not stored in the order they were added\n",
    "# Also, notice that the value 3 only appears once in this set object\n",
    "print(set1)"
   ]
  },
  {
   "cell_type": "code",
   "execution_count": 28,
   "metadata": {
    "colab": {
     "base_uri": "https://localhost:8080/"
    },
    "executionInfo": {
     "elapsed": 90,
     "status": "ok",
     "timestamp": 1666024897098,
     "user": {
      "displayName": "Mário Antunes",
      "userId": "09349029796619273737"
     },
     "user_tz": -60
    },
    "id": "AiLzs8X-qpzD",
    "outputId": "19dd99f4-33f8-4fd2-fd8b-aa7dc2b01463"
   },
   "outputs": [
    {
     "name": "stdout",
     "output_type": "stream",
     "text": [
      "{'name': 'Jane', 'age': 23, 'fav_foods': ['pizza', 'fruit', 'fish']}\n"
     ]
    }
   ],
   "source": [
    "# Items in the dict object are not stored in the order they were added\n",
    "print(dict1)"
   ]
  },
  {
   "cell_type": "code",
   "execution_count": 29,
   "metadata": {
    "colab": {
     "base_uri": "https://localhost:8080/"
    },
    "executionInfo": {
     "elapsed": 86,
     "status": "ok",
     "timestamp": 1666024897099,
     "user": {
      "displayName": "Mário Antunes",
      "userId": "09349029796619273737"
     },
     "user_tz": -60
    },
    "id": "GWrAJuZ2rFmo",
    "outputId": "e35f42c3-9787-4e7e-e40f-4435bf18ac41"
   },
   "outputs": [
    {
     "name": "stdout",
     "output_type": "stream",
     "text": [
      "[3, 5, 6, 3, 'dog', 'cat', False, 5, 'grapes']\n"
     ]
    }
   ],
   "source": [
    "# Add and re-assign\n",
    "list1 += [5, 'grapes']\n",
    "print(list1)"
   ]
  },
  {
   "cell_type": "code",
   "execution_count": 30,
   "metadata": {
    "colab": {
     "base_uri": "https://localhost:8080/"
    },
    "executionInfo": {
     "elapsed": 84,
     "status": "ok",
     "timestamp": 1666024897100,
     "user": {
      "displayName": "Mário Antunes",
      "userId": "09349029796619273737"
     },
     "user_tz": -60
    },
    "id": "ee0b6AIGrGux",
    "outputId": "a95965a6-1897-480e-d7ff-be0ac40efabc"
   },
   "outputs": [
    {
     "name": "stdout",
     "output_type": "stream",
     "text": [
      "(3, 5, 6, 3, 'dog', 'cat', False, 5, 'grapes')\n"
     ]
    }
   ],
   "source": [
    "# Add and re-assign\n",
    "tuple1 += (5, 'grapes')\n",
    "print(tuple1)"
   ]
  },
  {
   "cell_type": "code",
   "execution_count": 31,
   "metadata": {
    "colab": {
     "base_uri": "https://localhost:8080/"
    },
    "executionInfo": {
     "elapsed": 77,
     "status": "ok",
     "timestamp": 1666024897100,
     "user": {
      "displayName": "Mário Antunes",
      "userId": "09349029796619273737"
     },
     "user_tz": -60
    },
    "id": "vzjtcjiRrIYX",
    "outputId": "5956c4e6-9ed6-4a42-8ca6-6e45f9e51ce8"
   },
   "outputs": [
    {
     "data": {
      "text/plain": [
       "[1, 2, 3, 4, 1, 2, 3, 4]"
      ]
     },
     "execution_count": 31,
     "metadata": {},
     "output_type": "execute_result"
    }
   ],
   "source": [
    "# Multiply\n",
    "[1, 2, 3, 4] * 2"
   ]
  },
  {
   "cell_type": "code",
   "execution_count": 32,
   "metadata": {
    "colab": {
     "base_uri": "https://localhost:8080/"
    },
    "executionInfo": {
     "elapsed": 73,
     "status": "ok",
     "timestamp": 1666024897100,
     "user": {
      "displayName": "Mário Antunes",
      "userId": "09349029796619273737"
     },
     "user_tz": -60
    },
    "id": "QyZuQxPGrJ6W",
    "outputId": "37cbdabd-8274-454d-df6b-249a03b3f57a"
   },
   "outputs": [
    {
     "data": {
      "text/plain": [
       "(1, 2, 3, 4, 1, 2, 3, 4, 1, 2, 3, 4)"
      ]
     },
     "execution_count": 32,
     "metadata": {},
     "output_type": "execute_result"
    }
   ],
   "source": [
    "# Multiply\n",
    "(1, 2, 3, 4) * 3"
   ]
  },
  {
   "cell_type": "markdown",
   "metadata": {
    "id": "EZJSfBqErNIG"
   },
   "source": [
    "# Accessing data in containers\n",
    "\n",
    "For strings, lists, tuples, and dicts, we can use **subscript notation** (square brackets) to access data at an index.\n",
    "\n",
    "- strings, lists, and tuples are indexed by integers, **starting at 0** for first item\n",
    "  - these sequence types also support accesing a range of items, known as **slicing**\n",
    "  - use **negative indexing** to start at the back of the sequence\n",
    "- dicts are indexed by their keys\n",
    "\n",
    "> Note: sets are not indexed, so we cannot use subscript notation to access data elements."
   ]
  },
  {
   "cell_type": "code",
   "execution_count": 33,
   "metadata": {
    "colab": {
     "base_uri": "https://localhost:8080/"
    },
    "executionInfo": {
     "elapsed": 71,
     "status": "ok",
     "timestamp": 1666024897102,
     "user": {
      "displayName": "Mário Antunes",
      "userId": "09349029796619273737"
     },
     "user_tz": -60
    },
    "id": "MtAJUHNvrOLd",
    "outputId": "8f4f61c5-cd04-46a3-d0f9-0d741e13c636"
   },
   "outputs": [
    {
     "name": "stdout",
     "output_type": "stream",
     "text": [
      "3\n"
     ]
    }
   ],
   "source": [
    "# Access the first item in a sequence\n",
    "print(list1[0])"
   ]
  },
  {
   "cell_type": "code",
   "execution_count": 34,
   "metadata": {
    "colab": {
     "base_uri": "https://localhost:8080/"
    },
    "executionInfo": {
     "elapsed": 68,
     "status": "ok",
     "timestamp": 1666024897103,
     "user": {
      "displayName": "Mário Antunes",
      "userId": "09349029796619273737"
     },
     "user_tz": -60
    },
    "id": "TsewkruCuHAs",
    "outputId": "88e22e70-8497-4199-cb8c-70b1361ae691"
   },
   "outputs": [
    {
     "name": "stdout",
     "output_type": "stream",
     "text": [
      "grapes\n"
     ]
    }
   ],
   "source": [
    "# Access the last item in a sequence\n",
    "print(tuple1[-1])"
   ]
  },
  {
   "cell_type": "code",
   "execution_count": 35,
   "metadata": {
    "colab": {
     "base_uri": "https://localhost:8080/"
    },
    "executionInfo": {
     "elapsed": 64,
     "status": "ok",
     "timestamp": 1666024897103,
     "user": {
      "displayName": "Mário Antunes",
      "userId": "09349029796619273737"
     },
     "user_tz": -60
    },
    "id": "vh6uwNJ3uI7u",
    "outputId": "34583c93-06d7-4494-d6e8-c307e3f55eba"
   },
   "outputs": [
    {
     "name": "stdout",
     "output_type": "stream",
     "text": [
      "examp\n"
     ]
    }
   ],
   "source": [
    "# Access a range of items in a sequence\n",
    "print(simple_string1[3:8])"
   ]
  },
  {
   "cell_type": "code",
   "execution_count": 36,
   "metadata": {
    "colab": {
     "base_uri": "https://localhost:8080/"
    },
    "executionInfo": {
     "elapsed": 611,
     "status": "ok",
     "timestamp": 1666024897655,
     "user": {
      "displayName": "Mário Antunes",
      "userId": "09349029796619273737"
     },
     "user_tz": -60
    },
    "id": "jCQUZiOZuKIj",
    "outputId": "2b45f2fe-e17a-44f8-f9dc-5879cf60d00c"
   },
   "outputs": [
    {
     "name": "stdout",
     "output_type": "stream",
     "text": [
      "(3, 5, 6, 3, 'dog', 'cat')\n"
     ]
    }
   ],
   "source": [
    "# Access a range of items in a sequence\n",
    "print(tuple1[:-3])"
   ]
  },
  {
   "cell_type": "code",
   "execution_count": 37,
   "metadata": {
    "colab": {
     "base_uri": "https://localhost:8080/"
    },
    "executionInfo": {
     "elapsed": 176,
     "status": "ok",
     "timestamp": 1666024897656,
     "user": {
      "displayName": "Mário Antunes",
      "userId": "09349029796619273737"
     },
     "user_tz": -60
    },
    "id": "my_suUT-uMec",
    "outputId": "ee956a2e-8ca8-4c74-b11b-5ea647b66562"
   },
   "outputs": [
    {
     "name": "stdout",
     "output_type": "stream",
     "text": [
      "['dog', 'cat', False, 5, 'grapes']\n"
     ]
    }
   ],
   "source": [
    "# Access a range of items in a sequence\n",
    "print(list1[4:])"
   ]
  },
  {
   "cell_type": "code",
   "execution_count": 38,
   "metadata": {
    "colab": {
     "base_uri": "https://localhost:8080/"
    },
    "executionInfo": {
     "elapsed": 172,
     "status": "ok",
     "timestamp": 1666024897657,
     "user": {
      "displayName": "Mário Antunes",
      "userId": "09349029796619273737"
     },
     "user_tz": -60
    },
    "id": "OV8mK1SFuOMV",
    "outputId": "ec939c0d-7d95-49e7-9ef8-9df0a34f1e45"
   },
   "outputs": [
    {
     "name": "stdout",
     "output_type": "stream",
     "text": [
      "Jane\n"
     ]
    }
   ],
   "source": [
    "# Access an item in a dictionary\n",
    "print(dict1['name'])"
   ]
  },
  {
   "cell_type": "code",
   "execution_count": 39,
   "metadata": {
    "colab": {
     "base_uri": "https://localhost:8080/"
    },
    "executionInfo": {
     "elapsed": 167,
     "status": "ok",
     "timestamp": 1666024897658,
     "user": {
      "displayName": "Mário Antunes",
      "userId": "09349029796619273737"
     },
     "user_tz": -60
    },
    "id": "k0i-qI66uPju",
    "outputId": "47d4342b-1b58-4959-920f-accccbb7c042"
   },
   "outputs": [
    {
     "name": "stdout",
     "output_type": "stream",
     "text": [
      "fish\n"
     ]
    }
   ],
   "source": [
    "# Access an element of a sequence in a dictionary\n",
    "print(dict1['fav_foods'][2])"
   ]
  },
  {
   "cell_type": "markdown",
   "metadata": {
    "id": "BzSZ5ajTvDEg"
   },
   "source": [
    "# Python built-in functions and callables\n",
    "\n",
    "A **function** is a Python object that you can \"call\" to **perform an action** or compute and **return another object**. You call a function by placing parentheses to the right of the function name. Some functions allow you to pass **arguments** inside the parentheses (separating multiple arguments with a comma). Internal to the function, these arguments are treated like variables.\n",
    "\n",
    "Python has several useful built-in functions to help you work with different objects and/or your environment. Here is a small sample of them:\n",
    "\n",
    "- **`type(obj)`** to determine the type of an object\n",
    "- **`len(container)`** to determine how many items are in a container\n",
    "- **`callable(obj)`** to determine if an object is callable\n",
    "- **`sorted(container)`** to return a new list from a container, with the items sorted\n",
    "- **`sum(container)`** to compute the sum of a container of numbers\n",
    "- **`min(container)`** to determine the smallest item in a container\n",
    "- **`max(container)`** to determine the largest item in a container\n",
    "- **`abs(number)`** to determine the absolute value of a number\n",
    "- **`repr(obj)`** to return a string representation of an object\n",
    "\n",
    "> Complete list of built-in functions [here](https://docs.python.org/3/library/functions.html).\n",
    "\n",
    "There are also different ways of defining your own functions and callable objects that we will explore later."
   ]
  },
  {
   "cell_type": "code",
   "execution_count": 40,
   "metadata": {
    "colab": {
     "base_uri": "https://localhost:8080/"
    },
    "executionInfo": {
     "elapsed": 163,
     "status": "ok",
     "timestamp": 1666024897659,
     "user": {
      "displayName": "Mário Antunes",
      "userId": "09349029796619273737"
     },
     "user_tz": -60
    },
    "id": "lEoNbHH-v4IE",
    "outputId": "8b878f6f-8bd7-428d-d387-2ff88714c457"
   },
   "outputs": [
    {
     "data": {
      "text/plain": [
       "str"
      ]
     },
     "execution_count": 40,
     "metadata": {},
     "output_type": "execute_result"
    }
   ],
   "source": [
    "# Use the type() function to determine the type of an object\n",
    "type(simple_string1)"
   ]
  },
  {
   "cell_type": "code",
   "execution_count": 41,
   "metadata": {
    "colab": {
     "base_uri": "https://localhost:8080/"
    },
    "executionInfo": {
     "elapsed": 157,
     "status": "ok",
     "timestamp": 1666024897659,
     "user": {
      "displayName": "Mário Antunes",
      "userId": "09349029796619273737"
     },
     "user_tz": -60
    },
    "id": "9G_ATgrlv7KD",
    "outputId": "7eba2a04-e753-44b3-e8b1-83dec1d8f93e"
   },
   "outputs": [
    {
     "data": {
      "text/plain": [
       "3"
      ]
     },
     "execution_count": 41,
     "metadata": {},
     "output_type": "execute_result"
    }
   ],
   "source": [
    "# Use the len() function to determine how many items are in a container\n",
    "len(dict1)"
   ]
  },
  {
   "cell_type": "code",
   "execution_count": 42,
   "metadata": {
    "colab": {
     "base_uri": "https://localhost:8080/"
    },
    "executionInfo": {
     "elapsed": 152,
     "status": "ok",
     "timestamp": 1666024897660,
     "user": {
      "displayName": "Mário Antunes",
      "userId": "09349029796619273737"
     },
     "user_tz": -60
    },
    "id": "gRLHt8N9v9lR",
    "outputId": "f7ad2d7a-ecc4-4de5-b481-43769549d99a"
   },
   "outputs": [
    {
     "data": {
      "text/plain": [
       "24"
      ]
     },
     "execution_count": 42,
     "metadata": {},
     "output_type": "execute_result"
    }
   ],
   "source": [
    "# Use the len() function to determine how many items are in a container\n",
    "len(simple_string2)"
   ]
  },
  {
   "cell_type": "code",
   "execution_count": 43,
   "metadata": {
    "colab": {
     "base_uri": "https://localhost:8080/"
    },
    "executionInfo": {
     "elapsed": 148,
     "status": "ok",
     "timestamp": 1666024897661,
     "user": {
      "displayName": "Mário Antunes",
      "userId": "09349029796619273737"
     },
     "user_tz": -60
    },
    "id": "wSIRn4e3wBZS",
    "outputId": "b3983e7b-b1e9-4d6e-d393-d1d63352ad6a"
   },
   "outputs": [
    {
     "data": {
      "text/plain": [
       "True"
      ]
     },
     "execution_count": 43,
     "metadata": {},
     "output_type": "execute_result"
    }
   ],
   "source": [
    "# Use the callable() function to determine if an object is callable\n",
    "callable(len)"
   ]
  },
  {
   "cell_type": "code",
   "execution_count": 44,
   "metadata": {
    "colab": {
     "base_uri": "https://localhost:8080/"
    },
    "executionInfo": {
     "elapsed": 143,
     "status": "ok",
     "timestamp": 1666024897662,
     "user": {
      "displayName": "Mário Antunes",
      "userId": "09349029796619273737"
     },
     "user_tz": -60
    },
    "id": "haaVWMjiwDDk",
    "outputId": "9e47c450-919d-421b-b143-05ab53e2921b"
   },
   "outputs": [
    {
     "data": {
      "text/plain": [
       "False"
      ]
     },
     "execution_count": 44,
     "metadata": {},
     "output_type": "execute_result"
    }
   ],
   "source": [
    "# Use the callable() function to determine if an object is callable\n",
    "callable(dict1)"
   ]
  },
  {
   "cell_type": "code",
   "execution_count": 45,
   "metadata": {
    "colab": {
     "base_uri": "https://localhost:8080/"
    },
    "executionInfo": {
     "elapsed": 137,
     "status": "ok",
     "timestamp": 1666024897662,
     "user": {
      "displayName": "Mário Antunes",
      "userId": "09349029796619273737"
     },
     "user_tz": -60
    },
    "id": "yUwq3KbwwEpp",
    "outputId": "64ab3b96-3775-4331-a2b0-556d274677eb"
   },
   "outputs": [
    {
     "data": {
      "text/plain": [
       "[-3, 1, 2, 3.6, 5, 7, 10]"
      ]
     },
     "execution_count": 45,
     "metadata": {},
     "output_type": "execute_result"
    }
   ],
   "source": [
    "# Use the sorted() function to return a new list from a container, with the items sorted\n",
    "sorted([10, 1, 3.6, 7, 5, 2, -3])"
   ]
  },
  {
   "cell_type": "code",
   "execution_count": 46,
   "metadata": {
    "colab": {
     "base_uri": "https://localhost:8080/"
    },
    "executionInfo": {
     "elapsed": 133,
     "status": "ok",
     "timestamp": 1666024897663,
     "user": {
      "displayName": "Mário Antunes",
      "userId": "09349029796619273737"
     },
     "user_tz": -60
    },
    "id": "xmq-uFjrwRKV",
    "outputId": "e5d819ec-f062-42d2-ace8-6888f76bf665"
   },
   "outputs": [
    {
     "data": {
      "text/plain": [
       "['California', 'Chicago', 'ants', 'cats', 'dogs', 'mice', 'zebras']"
      ]
     },
     "execution_count": 46,
     "metadata": {},
     "output_type": "execute_result"
    }
   ],
   "source": [
    "# Use the sorted() function to return a new list from a container, with the items sorted\n",
    "# - notice that capitalized strings come first\n",
    "sorted(['dogs', 'cats', 'zebras', 'Chicago', 'California', 'ants', 'mice'])"
   ]
  },
  {
   "cell_type": "code",
   "execution_count": 47,
   "metadata": {
    "colab": {
     "base_uri": "https://localhost:8080/"
    },
    "executionInfo": {
     "elapsed": 129,
     "status": "ok",
     "timestamp": 1666024897663,
     "user": {
      "displayName": "Mário Antunes",
      "userId": "09349029796619273737"
     },
     "user_tz": -60
    },
    "id": "T5Su9IZ8wk8M",
    "outputId": "0b07e847-d07b-4318-b1f0-3264f1c97720"
   },
   "outputs": [
    {
     "data": {
      "text/plain": [
       "25.6"
      ]
     },
     "execution_count": 47,
     "metadata": {},
     "output_type": "execute_result"
    }
   ],
   "source": [
    "# Use the sum() function to compute the sum of a container of numbers\n",
    "sum([10, 1, 3.6, 7, 5, 2, -3])"
   ]
  },
  {
   "cell_type": "code",
   "execution_count": 48,
   "metadata": {
    "colab": {
     "base_uri": "https://localhost:8080/"
    },
    "executionInfo": {
     "elapsed": 125,
     "status": "ok",
     "timestamp": 1666024897664,
     "user": {
      "displayName": "Mário Antunes",
      "userId": "09349029796619273737"
     },
     "user_tz": -60
    },
    "id": "D_m_PLMxwnEX",
    "outputId": "4132a6d7-e339-4276-ff25-bf3a58471c92"
   },
   "outputs": [
    {
     "data": {
      "text/plain": [
       "-3"
      ]
     },
     "execution_count": 48,
     "metadata": {},
     "output_type": "execute_result"
    }
   ],
   "source": [
    "# Use the min() function to determine the smallest item in a container\n",
    "min([10, 1, 3.6, 7, 5, 2, -3])"
   ]
  },
  {
   "cell_type": "code",
   "execution_count": 49,
   "metadata": {
    "colab": {
     "base_uri": "https://localhost:8080/",
     "height": 36
    },
    "executionInfo": {
     "elapsed": 119,
     "status": "ok",
     "timestamp": 1666024897664,
     "user": {
      "displayName": "Mário Antunes",
      "userId": "09349029796619273737"
     },
     "user_tz": -60
    },
    "id": "1VDUEsnxwoK1",
    "outputId": "f916469d-05d8-4578-d1ae-6d58ab006527"
   },
   "outputs": [
    {
     "data": {
      "text/plain": [
       "'a'"
      ]
     },
     "execution_count": 49,
     "metadata": {},
     "output_type": "execute_result"
    }
   ],
   "source": [
    "# Use the min() function to determine the smallest item in a container\n",
    "min(['g', 'z', 'a', 'y'])"
   ]
  },
  {
   "cell_type": "code",
   "execution_count": 50,
   "metadata": {
    "colab": {
     "base_uri": "https://localhost:8080/"
    },
    "executionInfo": {
     "elapsed": 119,
     "status": "ok",
     "timestamp": 1666024897665,
     "user": {
      "displayName": "Mário Antunes",
      "userId": "09349029796619273737"
     },
     "user_tz": -60
    },
    "id": "j9acJ3LPwqLA",
    "outputId": "c99462c5-556d-49d4-ee43-ff6ff35efad2"
   },
   "outputs": [
    {
     "data": {
      "text/plain": [
       "10"
      ]
     },
     "execution_count": 50,
     "metadata": {},
     "output_type": "execute_result"
    }
   ],
   "source": [
    "# Use the max() function to determine the largest item in a container\n",
    "max([10, 1, 3.6, 7, 5, 2, -3])"
   ]
  },
  {
   "cell_type": "code",
   "execution_count": 51,
   "metadata": {
    "colab": {
     "base_uri": "https://localhost:8080/",
     "height": 36
    },
    "executionInfo": {
     "elapsed": 114,
     "status": "ok",
     "timestamp": 1666024897665,
     "user": {
      "displayName": "Mário Antunes",
      "userId": "09349029796619273737"
     },
     "user_tz": -60
    },
    "id": "9wbksfzbwrbS",
    "outputId": "7255a1c2-f8d3-4851-a2bc-1ea0c0315a4d"
   },
   "outputs": [
    {
     "data": {
      "text/plain": [
       "'s'"
      ]
     },
     "execution_count": 51,
     "metadata": {},
     "output_type": "execute_result"
    }
   ],
   "source": [
    "# Use the max() function to determine the largest item in a container\n",
    "max('gibberish')"
   ]
  },
  {
   "cell_type": "code",
   "execution_count": 52,
   "metadata": {
    "colab": {
     "base_uri": "https://localhost:8080/"
    },
    "executionInfo": {
     "elapsed": 112,
     "status": "ok",
     "timestamp": 1666024897666,
     "user": {
      "displayName": "Mário Antunes",
      "userId": "09349029796619273737"
     },
     "user_tz": -60
    },
    "id": "ZJqCNFN6wspW",
    "outputId": "769fdf8f-bd56-46c8-e051-0c02769f0eaa"
   },
   "outputs": [
    {
     "data": {
      "text/plain": [
       "10"
      ]
     },
     "execution_count": 52,
     "metadata": {},
     "output_type": "execute_result"
    }
   ],
   "source": [
    "# Use the abs() function to determine the absolute value of a number\n",
    "abs(10)"
   ]
  },
  {
   "cell_type": "code",
   "execution_count": 53,
   "metadata": {
    "colab": {
     "base_uri": "https://localhost:8080/"
    },
    "executionInfo": {
     "elapsed": 108,
     "status": "ok",
     "timestamp": 1666024897667,
     "user": {
      "displayName": "Mário Antunes",
      "userId": "09349029796619273737"
     },
     "user_tz": -60
    },
    "id": "X60L6tYuwtxf",
    "outputId": "2a867ae9-a851-4f23-e6d7-96030ec97d5a"
   },
   "outputs": [
    {
     "data": {
      "text/plain": [
       "12"
      ]
     },
     "execution_count": 53,
     "metadata": {},
     "output_type": "execute_result"
    }
   ],
   "source": [
    "# Use the abs() function to determine the absolute value of a number\n",
    "abs(-12)"
   ]
  },
  {
   "cell_type": "code",
   "execution_count": 54,
   "metadata": {
    "colab": {
     "base_uri": "https://localhost:8080/",
     "height": 36
    },
    "executionInfo": {
     "elapsed": 103,
     "status": "ok",
     "timestamp": 1666024897667,
     "user": {
      "displayName": "Mário Antunes",
      "userId": "09349029796619273737"
     },
     "user_tz": -60
    },
    "id": "yu-Q0DT-wvLF",
    "outputId": "3f8a104d-2b99-4a0d-d370-2e7d6ad9ae4e"
   },
   "outputs": [
    {
     "data": {
      "text/plain": [
       "\"{False, 3, 'cat', 5, 'dog', 6}\""
      ]
     },
     "execution_count": 54,
     "metadata": {},
     "output_type": "execute_result"
    }
   ],
   "source": [
    "# Use the repr() function to return a string representation of an object\n",
    "repr(set1)"
   ]
  },
  {
   "cell_type": "markdown",
   "metadata": {
    "id": "lbSMGDtNyxqA"
   },
   "source": [
    "# Python object attributes (methods and properties)\n",
    "\n",
    "Different types of objects in Python have different **attributes** that can be referred to by name (similar to a variable). To access an attribute of an object, use a dot (`.`) after the object, then specify the attribute (i.e. `obj.attribute`)\n",
    "\n",
    "When an attribute of an object is a callable, that attribute is called a **method**. It is the same as a function, only this function is bound to a particular object.\n",
    "\n",
    "When an attribute of an object is not a callable, that attribute is called a **property**. It is just a piece of data about the object, that is itself another object.\n",
    "\n",
    "The built-in `dir()` function can be used to return a list of an object's attributes."
   ]
  },
  {
   "cell_type": "markdown",
   "metadata": {
    "id": "XOVidjgBzQ07"
   },
   "source": [
    "## Some methods on string objects\n",
    "\n",
    "- **`.capitalize()`** to return a capitalized version of the string (only first char uppercase)\n",
    "- **`.upper()`** to return an uppercase version of the string (all chars uppercase)\n",
    "- **`.lower()`** to return an lowercase version of the string (all chars lowercase)\n",
    "- **`.count(substring)`** to return the number of occurences of the substring in the string\n",
    "- **`.startswith(substring)`** to determine if the string starts with the substring\n",
    "- **`.endswith(substring)`** to determine if the string ends with the substring\n",
    "- **`.replace(old, new)`** to return a copy of the string with occurences of the \"old\" replaced by \"new\""
   ]
  },
  {
   "cell_type": "code",
   "execution_count": 55,
   "metadata": {
    "id": "L5HIUnJky0FB"
   },
   "outputs": [],
   "source": [
    "# Assign a string to a variable\n",
    "a_string = 'tHis is a sTriNg'"
   ]
  },
  {
   "cell_type": "code",
   "execution_count": 56,
   "metadata": {
    "colab": {
     "base_uri": "https://localhost:8080/",
     "height": 36
    },
    "executionInfo": {
     "elapsed": 101,
     "status": "ok",
     "timestamp": 1666024897668,
     "user": {
      "displayName": "Mário Antunes",
      "userId": "09349029796619273737"
     },
     "user_tz": -60
    },
    "id": "-TTTuAe_zZ7Q",
    "outputId": "d91c8089-09a7-4b50-82c2-7e66f8727823"
   },
   "outputs": [
    {
     "data": {
      "text/plain": [
       "'This is a string'"
      ]
     },
     "execution_count": 56,
     "metadata": {},
     "output_type": "execute_result"
    }
   ],
   "source": [
    "# Return a capitalized version of the string\n",
    "a_string.capitalize()"
   ]
  },
  {
   "cell_type": "code",
   "execution_count": 57,
   "metadata": {
    "colab": {
     "base_uri": "https://localhost:8080/",
     "height": 36
    },
    "executionInfo": {
     "elapsed": 99,
     "status": "ok",
     "timestamp": 1666024897668,
     "user": {
      "displayName": "Mário Antunes",
      "userId": "09349029796619273737"
     },
     "user_tz": -60
    },
    "id": "YNMexlZuzbM0",
    "outputId": "76388ab6-b36d-4590-c704-1631a0360964"
   },
   "outputs": [
    {
     "data": {
      "text/plain": [
       "'THIS IS A STRING'"
      ]
     },
     "execution_count": 57,
     "metadata": {},
     "output_type": "execute_result"
    }
   ],
   "source": [
    "# Return an uppercase version of the string\n",
    "a_string.upper()"
   ]
  },
  {
   "cell_type": "code",
   "execution_count": 58,
   "metadata": {
    "colab": {
     "base_uri": "https://localhost:8080/",
     "height": 36
    },
    "executionInfo": {
     "elapsed": 98,
     "status": "ok",
     "timestamp": 1666024897669,
     "user": {
      "displayName": "Mário Antunes",
      "userId": "09349029796619273737"
     },
     "user_tz": -60
    },
    "id": "72jh_xaTzcaG",
    "outputId": "00d53653-e022-4430-aa80-72507f16afef"
   },
   "outputs": [
    {
     "data": {
      "text/plain": [
       "'this is a string'"
      ]
     },
     "execution_count": 58,
     "metadata": {},
     "output_type": "execute_result"
    }
   ],
   "source": [
    "# Return a lowercase version of the string\n",
    "a_string.lower()"
   ]
  },
  {
   "cell_type": "code",
   "execution_count": 59,
   "metadata": {
    "colab": {
     "base_uri": "https://localhost:8080/",
     "height": 36
    },
    "executionInfo": {
     "elapsed": 97,
     "status": "ok",
     "timestamp": 1666024897669,
     "user": {
      "displayName": "Mário Antunes",
      "userId": "09349029796619273737"
     },
     "user_tz": -60
    },
    "id": "pSfWKNcAzfgd",
    "outputId": "4d14f981-e6e0-47cc-ab99-25c85defb4a6"
   },
   "outputs": [
    {
     "data": {
      "text/plain": [
       "'tHis is a sTriNg'"
      ]
     },
     "execution_count": 59,
     "metadata": {},
     "output_type": "execute_result"
    }
   ],
   "source": [
    "# Notice that the methods called have not actually modified the string\n",
    "a_string"
   ]
  },
  {
   "cell_type": "code",
   "execution_count": 60,
   "metadata": {
    "colab": {
     "base_uri": "https://localhost:8080/"
    },
    "executionInfo": {
     "elapsed": 96,
     "status": "ok",
     "timestamp": 1666024897670,
     "user": {
      "displayName": "Mário Antunes",
      "userId": "09349029796619273737"
     },
     "user_tz": -60
    },
    "id": "KfGIp98Jzg7S",
    "outputId": "5f75ee53-bcb9-4b5d-91e0-20fd036f0912"
   },
   "outputs": [
    {
     "data": {
      "text/plain": [
       "3"
      ]
     },
     "execution_count": 60,
     "metadata": {},
     "output_type": "execute_result"
    }
   ],
   "source": [
    "# Count number of occurences of a substring in the string\n",
    "a_string.count('i')"
   ]
  },
  {
   "cell_type": "code",
   "execution_count": 61,
   "metadata": {
    "colab": {
     "base_uri": "https://localhost:8080/"
    },
    "executionInfo": {
     "elapsed": 89,
     "status": "ok",
     "timestamp": 1666024897671,
     "user": {
      "displayName": "Mário Antunes",
      "userId": "09349029796619273737"
     },
     "user_tz": -60
    },
    "id": "6wfosuMdzi0A",
    "outputId": "3930e4ef-84d6-466c-f773-c5379d5159e3"
   },
   "outputs": [
    {
     "data": {
      "text/plain": [
       "1"
      ]
     },
     "execution_count": 61,
     "metadata": {},
     "output_type": "execute_result"
    }
   ],
   "source": [
    "# Count number of occurences of a substring in the string after a certain position\n",
    "a_string.count('i', 7)"
   ]
  },
  {
   "cell_type": "code",
   "execution_count": 62,
   "metadata": {
    "colab": {
     "base_uri": "https://localhost:8080/"
    },
    "executionInfo": {
     "elapsed": 85,
     "status": "ok",
     "timestamp": 1666024897671,
     "user": {
      "displayName": "Mário Antunes",
      "userId": "09349029796619273737"
     },
     "user_tz": -60
    },
    "id": "Itr6e46PzkDW",
    "outputId": "75547564-80e3-4654-b223-67710be84477"
   },
   "outputs": [
    {
     "data": {
      "text/plain": [
       "2"
      ]
     },
     "execution_count": 62,
     "metadata": {},
     "output_type": "execute_result"
    }
   ],
   "source": [
    "# Count number of occurences of a substring in the string\n",
    "a_string.count('is')"
   ]
  },
  {
   "cell_type": "code",
   "execution_count": 63,
   "metadata": {
    "colab": {
     "base_uri": "https://localhost:8080/"
    },
    "executionInfo": {
     "elapsed": 81,
     "status": "ok",
     "timestamp": 1666024897671,
     "user": {
      "displayName": "Mário Antunes",
      "userId": "09349029796619273737"
     },
     "user_tz": -60
    },
    "id": "ZGkkU1BgznTR",
    "outputId": "7ca5d297-1206-44b1-d1ca-ccf6a87fff85"
   },
   "outputs": [
    {
     "data": {
      "text/plain": [
       "False"
      ]
     },
     "execution_count": 63,
     "metadata": {},
     "output_type": "execute_result"
    }
   ],
   "source": [
    "# Does the string start with 'this'?\n",
    "a_string.startswith('this')"
   ]
  },
  {
   "cell_type": "code",
   "execution_count": 64,
   "metadata": {
    "colab": {
     "base_uri": "https://localhost:8080/"
    },
    "executionInfo": {
     "elapsed": 77,
     "status": "ok",
     "timestamp": 1666024897672,
     "user": {
      "displayName": "Mário Antunes",
      "userId": "09349029796619273737"
     },
     "user_tz": -60
    },
    "id": "lriqVj9vzo3R",
    "outputId": "a1c7a638-faef-42cc-8fa1-091d85cb19b0"
   },
   "outputs": [
    {
     "data": {
      "text/plain": [
       "True"
      ]
     },
     "execution_count": 64,
     "metadata": {},
     "output_type": "execute_result"
    }
   ],
   "source": [
    "# Does the lowercase string start with 'this'?\n",
    "a_string.lower().startswith('this')"
   ]
  },
  {
   "cell_type": "code",
   "execution_count": 65,
   "metadata": {
    "colab": {
     "base_uri": "https://localhost:8080/"
    },
    "executionInfo": {
     "elapsed": 73,
     "status": "ok",
     "timestamp": 1666024897672,
     "user": {
      "displayName": "Mário Antunes",
      "userId": "09349029796619273737"
     },
     "user_tz": -60
    },
    "id": "jonOlxhlzs1e",
    "outputId": "b299d9af-7e4f-4bd7-f574-ef9211beb7f2"
   },
   "outputs": [
    {
     "data": {
      "text/plain": [
       "True"
      ]
     },
     "execution_count": 65,
     "metadata": {},
     "output_type": "execute_result"
    }
   ],
   "source": [
    "# Does the string end with 'Ng'?\n",
    "a_string.endswith('Ng')"
   ]
  },
  {
   "cell_type": "code",
   "execution_count": 66,
   "metadata": {
    "colab": {
     "base_uri": "https://localhost:8080/",
     "height": 36
    },
    "executionInfo": {
     "elapsed": 67,
     "status": "ok",
     "timestamp": 1666024897672,
     "user": {
      "displayName": "Mário Antunes",
      "userId": "09349029796619273737"
     },
     "user_tz": -60
    },
    "id": "Xl1zNVi3zu9b",
    "outputId": "1afe9519-a0dc-42fb-a7c1-643b52d822f6"
   },
   "outputs": [
    {
     "data": {
      "text/plain": [
       "'tHXYZ XYZ a sTriNg'"
      ]
     },
     "execution_count": 66,
     "metadata": {},
     "output_type": "execute_result"
    }
   ],
   "source": [
    "# Return a version of the string with a substring replaced with something else\n",
    "a_string.replace('is', 'XYZ')"
   ]
  },
  {
   "cell_type": "code",
   "execution_count": 67,
   "metadata": {
    "colab": {
     "base_uri": "https://localhost:8080/",
     "height": 36
    },
    "executionInfo": {
     "elapsed": 66,
     "status": "ok",
     "timestamp": 1666024897673,
     "user": {
      "displayName": "Mário Antunes",
      "userId": "09349029796619273737"
     },
     "user_tz": -60
    },
    "id": "F6o8URhSzwWW",
    "outputId": "d5179ae6-6409-46a1-a126-1114dd5898da"
   },
   "outputs": [
    {
     "data": {
      "text/plain": [
       "'tH!s !s a sTr!Ng'"
      ]
     },
     "execution_count": 67,
     "metadata": {},
     "output_type": "execute_result"
    }
   ],
   "source": [
    "# Return a version of the string with a substring replaced with something else\n",
    "a_string.replace('i', '!')"
   ]
  },
  {
   "cell_type": "code",
   "execution_count": 68,
   "metadata": {
    "colab": {
     "base_uri": "https://localhost:8080/",
     "height": 36
    },
    "executionInfo": {
     "elapsed": 63,
     "status": "ok",
     "timestamp": 1666024897673,
     "user": {
      "displayName": "Mário Antunes",
      "userId": "09349029796619273737"
     },
     "user_tz": -60
    },
    "id": "SPvl7YOOzxd3",
    "outputId": "b8c0ce3e-7c80-4eef-e503-665ca6556a4f"
   },
   "outputs": [
    {
     "data": {
      "text/plain": [
       "'tH!s !s a sTriNg'"
      ]
     },
     "execution_count": 68,
     "metadata": {},
     "output_type": "execute_result"
    }
   ],
   "source": [
    "# Return a version of the string with the first 2 occurences a substring replaced with something else\n",
    "a_string.replace('i', '!', 2)"
   ]
  },
  {
   "cell_type": "markdown",
   "metadata": {
    "id": "pERkNOyOzy2p"
   },
   "source": [
    "## Some methods on list objects\n",
    "\n",
    "- **`.append(item)`** to add a single item to the list\n",
    "- **`.extend([item1, item2, ...])`** to add multiple items to the list\n",
    "- **`.remove(item)`** to remove a single item from the list\n",
    "- **`.pop()`** to remove and return the item at the end of the list\n",
    "- **`.pop(index)`** to remove and return an item at an index"
   ]
  },
  {
   "cell_type": "code",
   "execution_count": null,
   "metadata": {
    "id": "uqaIgmKBz6QT"
   },
   "outputs": [],
   "source": []
  },
  {
   "cell_type": "markdown",
   "metadata": {
    "id": "uQhkF3bMz6fa"
   },
   "source": [
    "## Some methods on set objects\n",
    "\n",
    "- **`.add(item)`** to add a single item to the set\n",
    "- **`.update([item1, item2, ...])`** to add multiple items to the set\n",
    "- **`.update(set2, set3, ...)`** to add items from all provided sets to the set\n",
    "- **`.remove(item)`** to remove a single item from the set\n",
    "- **`.pop()`** to remove and return a random item from the set\n",
    "- **`.difference(set2)`** to return items in the set that are not in another set\n",
    "- **`.intersection(set2)`** to return items in both sets\n",
    "- **`.union(set2)`** to return items that are in either set\n",
    "- **`.symmetric_difference(set2)`** to return items that are only in one set (not both)\n",
    "- **`.issuperset(set2)`** does the set contain everything in the other set?\n",
    "- **`.issubset(set2)`** is the set contained in the other set?"
   ]
  },
  {
   "cell_type": "code",
   "execution_count": null,
   "metadata": {
    "id": "P8p4Un3oz9Qx"
   },
   "outputs": [],
   "source": []
  },
  {
   "cell_type": "markdown",
   "metadata": {
    "id": "m4x5wyV_z9f2"
   },
   "source": [
    "## Some methods on dict objects\n",
    "\n",
    "- **`.update([(key1, val1), (key2, val2), ...])`** to add multiple key-value pairs to the dict\n",
    "- **`.update(dict2)`** to add all keys and values from another dict to the dict\n",
    "- **`.pop(key)`** to remove key and return its value from the dict (error if key not found)\n",
    "- **`.pop(key, default_val)`** to remove key and return its value from the dict (or return default_val if key not found)\n",
    "- **`.get(key)`** to return the value at a specified key in the dict (or None if key not found)\n",
    "- **`.get(key, default_val)`** to return the value at a specified key in the dict (or default_val if key not found)\n",
    "- **`.keys()`** to return a list of keys in the dict\n",
    "- **`.values()`** to return a list of values in the dict\n",
    "- **`.items()`** to return a list of key-value pairs (tuples) in the dict"
   ]
  },
  {
   "cell_type": "code",
   "execution_count": null,
   "metadata": {
    "id": "1ydQU36xz_iF"
   },
   "outputs": [],
   "source": []
  },
  {
   "cell_type": "markdown",
   "metadata": {
    "id": "tunVqm4P1dzh"
   },
   "source": [
    "# Formatting strings\n",
    "\n",
    "String formatting is the process of infusing things in the string dynamically and presenting the string.\n",
    "\n",
    "## Option 1: str.format()\n",
    "\n",
    "With str.format(), the replacement fields are marked by curly braces:"
   ]
  },
  {
   "cell_type": "code",
   "execution_count": 69,
   "metadata": {
    "colab": {
     "base_uri": "https://localhost:8080/"
    },
    "executionInfo": {
     "elapsed": 454,
     "status": "ok",
     "timestamp": 1666025180323,
     "user": {
      "displayName": "Mário Antunes",
      "userId": "09349029796619273737"
     },
     "user_tz": -60
    },
    "id": "ujTa34-d1mml",
    "outputId": "f0fb36ad-2629-4c7e-8a03-29f71ebef619"
   },
   "outputs": [
    {
     "name": "stdout",
     "output_type": "stream",
     "text": [
      "Hello, Eric. You are 74.\n",
      "Hello, Eric. You are 74.\n"
     ]
    }
   ],
   "source": [
    "name = \"Eric\"\n",
    "age = 74\n",
    "print('Hello, {}. You are {}.'.format(name, age))\n",
    "# the placeholder can be indexed\n",
    "print('Hello, {1}. You are {0}.'.format(age, name))"
   ]
  },
  {
   "cell_type": "code",
   "execution_count": 70,
   "metadata": {
    "colab": {
     "base_uri": "https://localhost:8080/",
     "height": 36
    },
    "executionInfo": {
     "elapsed": 858,
     "status": "ok",
     "timestamp": 1666025194380,
     "user": {
      "displayName": "Mário Antunes",
      "userId": "09349029796619273737"
     },
     "user_tz": -60
    },
    "id": "p6sj63Ab1tdb",
    "outputId": "58e1ca7a-db3d-449a-c71b-9882b4578740"
   },
   "outputs": [
    {
     "data": {
      "text/plain": [
       "'Hello, Eric. You are 74.'"
      ]
     },
     "execution_count": 70,
     "metadata": {},
     "output_type": "execute_result"
    }
   ],
   "source": [
    "person = {'name': 'Eric', 'age': 74}\n",
    "# the place holder can be named\n",
    "'Hello, {name}. You are {age}.'.format(name=person['name'], age=person['age'])"
   ]
  },
  {
   "cell_type": "markdown",
   "metadata": {
    "id": "LZZSRzQ01xVl"
   },
   "source": [
    "## Option #2: f-Strings\n",
    "\n",
    "Also called \"formatted string literals\", **f**-strings are string literals that have an **f** at the beginning and curly braces containing expressions that will be replaced with their values:"
   ]
  },
  {
   "cell_type": "code",
   "execution_count": 71,
   "metadata": {
    "colab": {
     "base_uri": "https://localhost:8080/",
     "height": 36
    },
    "executionInfo": {
     "elapsed": 8,
     "status": "ok",
     "timestamp": 1666025305552,
     "user": {
      "displayName": "Mário Antunes",
      "userId": "09349029796619273737"
     },
     "user_tz": -60
    },
    "id": "QHinlGbW10GL",
    "outputId": "66241b1b-470f-4d53-835d-28cacce16dfe"
   },
   "outputs": [
    {
     "data": {
      "text/plain": [
       "'Hello, Eric. You are 74.'"
      ]
     },
     "execution_count": 71,
     "metadata": {},
     "output_type": "execute_result"
    }
   ],
   "source": [
    "name = \"Eric\"\n",
    "age = 74\n",
    "f\"Hello, {name}. You are {age}.\""
   ]
  },
  {
   "cell_type": "code",
   "execution_count": 72,
   "metadata": {
    "colab": {
     "base_uri": "https://localhost:8080/",
     "height": 36
    },
    "executionInfo": {
     "elapsed": 458,
     "status": "ok",
     "timestamp": 1666025303559,
     "user": {
      "displayName": "Mário Antunes",
      "userId": "09349029796619273737"
     },
     "user_tz": -60
    },
    "id": "1HJ-mLQB2IuH",
    "outputId": "79f7e07e-a1c6-43d6-b471-93b9c175d11e"
   },
   "outputs": [
    {
     "data": {
      "text/plain": [
       "'74'"
      ]
     },
     "execution_count": 72,
     "metadata": {},
     "output_type": "execute_result"
    }
   ],
   "source": [
    "f\"{2 * 37}\""
   ]
  },
  {
   "cell_type": "markdown",
   "metadata": {
    "id": "TBJLVp5z2OYK"
   },
   "source": [
    "# Creating objects from arguments or other objects\n",
    "\n",
    "The basic types and containers we have used so far all provide **type constructors**:\n",
    "\n",
    "- `int()`\n",
    "- `float()`\n",
    "- `str()`\n",
    "- `list()`\n",
    "- `tuple()`\n",
    "- `set()`\n",
    "- `dict()`\n",
    "\n",
    "Up to this point, we have been defining objects of these built-in types using some syntactic shortcuts, since they are so common.\n",
    "\n",
    "Sometimes, you will have an object of one type that you need to convert to another type. Use the **type constructor** for the type of object you want to have, and pass in the object you currently have."
   ]
  },
  {
   "cell_type": "code",
   "execution_count": null,
   "metadata": {
    "id": "SVu8acQV2PDB"
   },
   "outputs": [],
   "source": []
  }
 ],
 "metadata": {
  "colab": {
   "authorship_tag": "ABX9TyOAhsbBy/jofKeNOJImaMEe",
   "collapsed_sections": [],
   "provenance": []
  },
  "kernelspec": {
   "display_name": "Python 3 (ipykernel)",
   "language": "python",
   "name": "python3"
  },
  "language_info": {
   "codemirror_mode": {
    "name": "ipython",
    "version": 3
   },
   "file_extension": ".py",
   "mimetype": "text/x-python",
   "name": "python",
   "nbconvert_exporter": "python",
   "pygments_lexer": "ipython3",
   "version": "3.9.15"
  }
 },
 "nbformat": 4,
 "nbformat_minor": 4
}
